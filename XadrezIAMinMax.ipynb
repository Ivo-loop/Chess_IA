{
  "cells": [
    {
      "cell_type": "markdown",
      "metadata": {
        "id": "Ap7702hXjzF_"
      },
      "source": []
    },
    {
      "cell_type": "markdown",
      "metadata": {
        "id": "rh93Xhj0CPBt"
      },
      "source": [
        "#Introdução"
      ]
    },
    {
      "cell_type": "markdown",
      "metadata": {
        "id": "iHSZ492sBuRp"
      },
      "source": [
        "\n",
        "\n",
        "##Descrição e Regras do Jogo de Xadrez:\n",
        "\n",
        "O xadrez é um jogo de tabuleiro estratégico e tático para dois jogadores, cada um controlando um conjunto de peças coloridas (brancas e pretas) em um tabuleiro de 64 casas quadradas alternadamente claras e escuras, organizadas em oito fileiras e oito colunas. O objetivo do jogo é dar xeque-mate ao rei do adversário, o que significa que o rei está em uma posição onde não pode se mover sem ser capturado.\n",
        "\n",
        "As peças no tabuleiro são:\n",
        "\n",
        "1.  Rei: Pode mover-se uma casa em qualquer direção.\n",
        "2.  Dama (ou Rainha): Pode mover-se em qualquer direção (horizontal, vertical ou diagonal) por várias casas.\n",
        "3.  Torre: Move-se horizontal ou verticalmente por várias casas.\n",
        "4.  Bispo: Move-se diagonalmente por várias casas.\n",
        "5.  Cavalo: Move-se em forma de \"L\", duas casas em uma direção e uma casa perpendicular a essa.\n",
        "6.  Peão: Move-se para frente uma casa, exceto no primeiro movimento, onde pode avançar duas casas; captura peças diagonalmente.\n",
        "\n",
        "\n",
        "Além disso, existem regras especiais, como o \"roque\" (movimento que envolve o rei e uma torre) e a promoção do peão (quando alcança a última fileira, pode ser promovido a outra peça).\n",
        "\n",
        "O jogo começa com as peças posicionadas de maneira específica, e os jogadores alternam seus movimentos, tentando controlar o centro do tabuleiro, desenvolver suas peças e criar oportunidades táticas para atacar o rei adversário enquanto protegem o seu próprio.\n",
        "\n"
      ]
    },
    {
      "cell_type": "markdown",
      "metadata": {
        "id": "BinowwycCQvg"
      },
      "source": [
        "##Tipo de jogo.\n",
        "Ele é um jogo completamente Observável ja aque os dois agente tem visão do jogo todo.\n",
        "\n",
        "Deterministico devido cada estado do ambiente é definido puramente pelas ações do agente.\n",
        "\n",
        "Sequencial e estático pois uma movimento jogado agora afeta um proximo movimento e o agente tem todo tempo do mundo(ou quase) para escolher o proximo movimento.\n",
        "\n",
        "Mesmo o xadrez possuindo 900^40 jogos de xadrez possiveis. Aproximandamente 10^120 o que é maior que a estimativa de atomos no universo 6x10^79. Ele ainda é considerado discreto."
      ]
    },
    {
      "cell_type": "markdown",
      "metadata": {
        "id": "MbNIDrbJHU3U"
      },
      "source": [
        "##Solução\n",
        "\n",
        "No contexto do xadrez, o algoritmo Minimax é uma escolha comum para determinar a melhor jogada a ser feita por um jogador. No entanto, devido à complexidade do xadrez e à quantidade de jogadas possíveis, o Minimax é geralmente combinado com a poda alfa-beta para tornar a busca mais eficiente. A poda alfa-beta reduz o número de ramos da árvore que precisam ser explorados, descartando ramos que já se sabe que não levarão a uma solução melhor do que a já encontrada.\n",
        "\n",
        "O algoritmo Minimax avalia as jogadas possíveis até uma certa profundidade na árvore de busca, usando uma função de avaliação para determinar a vantagem de um estado do tabuleiro. Essa função pode levar em consideração fatores como material, posição das peças, segurança do rei, entre outros. O objetivo é encontrar a jogada que leva a um estado onde a vantagem do jogador seja maximizada, considerando que o oponente também busca minimizar essa vantagem.\n",
        "\n",
        "Essa abordagem de usar o Minimax com poda alfa-beta e uma função de avaliação bem projetada é uma das maneiras eficazes de abordar o problema de encontrar a melhor jogada no xadrez.\n"
      ]
    },
    {
      "cell_type": "code",
      "execution_count": 1,
      "metadata": {
        "colab": {
          "base_uri": "https://localhost:8080/"
        },
        "collapsed": true,
        "id": "8jFPGNi6kR3Q",
        "outputId": "40063a97-df72-4216-b5d0-0fbfa461ef92"
      },
      "outputs": [
        {
          "output_type": "stream",
          "name": "stdout",
          "text": [
            "Collecting python-chess\n",
            "  Downloading python_chess-1.999-py3-none-any.whl.metadata (776 bytes)\n",
            "Collecting chess<2,>=1 (from python-chess)\n",
            "  Downloading chess-1.11.0.tar.gz (156 kB)\n",
            "\u001b[2K     \u001b[90m━━━━━━━━━━━━━━━━━━━━━━━━━━━━━━━━━━━━━━━━\u001b[0m \u001b[32m156.4/156.4 kB\u001b[0m \u001b[31m2.4 MB/s\u001b[0m eta \u001b[36m0:00:00\u001b[0m\n",
            "\u001b[?25h  Preparing metadata (setup.py) ... \u001b[?25l\u001b[?25hdone\n",
            "Downloading python_chess-1.999-py3-none-any.whl (1.4 kB)\n",
            "Building wheels for collected packages: chess\n",
            "  Building wheel for chess (setup.py) ... \u001b[?25l\u001b[?25hdone\n",
            "  Created wheel for chess: filename=chess-1.11.0-py3-none-any.whl size=148469 sha256=505baa6b6fcc22ff447548c7ca54d6c4f1417aaede8df1e11356ba9ea8f963d6\n",
            "  Stored in directory: /root/.cache/pip/wheels/46/0b/07/0a760d1eb7bd47ad727299125255ca757eb468db2d0f41db57\n",
            "Successfully built chess\n",
            "Installing collected packages: chess, python-chess\n",
            "Successfully installed chess-1.11.0 python-chess-1.999\n",
            "Collecting cairosvg\n",
            "  Downloading CairoSVG-2.7.1-py3-none-any.whl.metadata (2.7 kB)\n",
            "Collecting cairocffi (from cairosvg)\n",
            "  Downloading cairocffi-1.7.1-py3-none-any.whl.metadata (3.3 kB)\n",
            "Collecting cssselect2 (from cairosvg)\n",
            "  Downloading cssselect2-0.7.0-py3-none-any.whl.metadata (2.9 kB)\n",
            "Requirement already satisfied: defusedxml in /usr/local/lib/python3.10/dist-packages (from cairosvg) (0.7.1)\n",
            "Requirement already satisfied: pillow in /usr/local/lib/python3.10/dist-packages (from cairosvg) (10.4.0)\n",
            "Requirement already satisfied: tinycss2 in /usr/local/lib/python3.10/dist-packages (from cairosvg) (1.3.0)\n",
            "Requirement already satisfied: cffi>=1.1.0 in /usr/local/lib/python3.10/dist-packages (from cairocffi->cairosvg) (1.17.1)\n",
            "Requirement already satisfied: webencodings in /usr/local/lib/python3.10/dist-packages (from cssselect2->cairosvg) (0.5.1)\n",
            "Requirement already satisfied: pycparser in /usr/local/lib/python3.10/dist-packages (from cffi>=1.1.0->cairocffi->cairosvg) (2.22)\n",
            "Downloading CairoSVG-2.7.1-py3-none-any.whl (43 kB)\n",
            "\u001b[2K   \u001b[90m━━━━━━━━━━━━━━━━━━━━━━━━━━━━━━━━━━━━━━━━\u001b[0m \u001b[32m43.2/43.2 kB\u001b[0m \u001b[31m1.2 MB/s\u001b[0m eta \u001b[36m0:00:00\u001b[0m\n",
            "\u001b[?25hDownloading cairocffi-1.7.1-py3-none-any.whl (75 kB)\n",
            "\u001b[2K   \u001b[90m━━━━━━━━━━━━━━━━━━━━━━━━━━━━━━━━━━━━━━━━\u001b[0m \u001b[32m75.6/75.6 kB\u001b[0m \u001b[31m2.7 MB/s\u001b[0m eta \u001b[36m0:00:00\u001b[0m\n",
            "\u001b[?25hDownloading cssselect2-0.7.0-py3-none-any.whl (15 kB)\n",
            "Installing collected packages: cssselect2, cairocffi, cairosvg\n",
            "Successfully installed cairocffi-1.7.1 cairosvg-2.7.1 cssselect2-0.7.0\n"
          ]
        }
      ],
      "source": [
        "!pip3 install python-chess\n",
        "!pip3 install cairosvg"
      ]
    },
    {
      "cell_type": "code",
      "execution_count": 2,
      "metadata": {
        "id": "v3pt8fRml0cs"
      },
      "outputs": [],
      "source": [
        "import chess\n",
        "from chess import Board\n",
        "import chess.svg\n",
        "import cairosvg\n",
        "from cairosvg import svg2png\n",
        "from collections import OrderedDict\n",
        "from operator import itemgetter\n",
        "import pandas as pd\n",
        "import numpy as np\n",
        "import tensorflow as tf\n",
        "from IPython.display import clear_output\n",
        "import cv2\n",
        "from google.colab.patches import cv2_imshow\n",
        "from abc import ABC, abstractmethod\n",
        "from random import choice\n",
        "from itertools import count\n",
        "from time import sleep"
      ]
    },
    {
      "cell_type": "markdown",
      "metadata": {
        "id": "HNPJD0SUnEuT"
      },
      "source": [
        "Config de pontos"
      ]
    },
    {
      "cell_type": "code",
      "execution_count": 3,
      "metadata": {
        "id": "apukLhntnEPI"
      },
      "outputs": [],
      "source": [
        "BOARD_SCORES = {\n",
        "    \"PAWN\": 1,\n",
        "    \"BISHOP\": 5,\n",
        "    \"KING\": 0,\n",
        "    \"QUEEN\": 10,\n",
        "    \"KNIGHT\": 3,\n",
        "    \"ROOK\": 4\n",
        "}"
      ]
    },
    {
      "cell_type": "markdown",
      "metadata": {
        "id": "IiC86qMumeNF"
      },
      "source": [
        "Board"
      ]
    },
    {
      "cell_type": "code",
      "execution_count": 4,
      "metadata": {
        "collapsed": true,
        "id": "pn_ym_UOjm7C"
      },
      "outputs": [],
      "source": [
        "def draw_board(current_board):\n",
        "  \"\"\"Draw board\n",
        "\n",
        "   Keyword arguments:\n",
        "   current_board -- chess.Board()\n",
        "  \"\"\"\n",
        "\n",
        "  # fica bonito mais que come um recurso danado.\n",
        "  clear_output(wait=True)\n",
        "  board_img = chess.svg.board(current_board, flipped = True)\n",
        "  svg2png(bytestring=board_img,write_to='/content/board.png')\n",
        "  img = cv2.imread('/content/board.png', 1)\n",
        "  cv2_imshow(img)\n",
        "\n",
        "# como o nome diz checa se deu empate ou se ocorreu algum problema no board.\n",
        "def check_tie(board: Board, claim_draw: bool = False) -> bool:\n",
        "    tie = (board.is_stalemate() or\n",
        "           board.is_fivefold_repetition() or\n",
        "           board.is_insufficient_material())\n",
        "    if claim_draw:\n",
        "        tie = tie or board.can_claim_draw()\n",
        "    if tie:\n",
        "        return True\n",
        "    return False\n",
        "\n",
        "def eval_board_state(board, player: bool, board_scores_policy: dict) -> float:\n",
        "    total_score = 0\n",
        "    for piece, score in board_scores_policy.items():\n",
        "        piece = getattr(chess, piece)\n",
        "\n",
        "        true_score = len(board.pieces(piece, player)) * score\n",
        "\n",
        "        false_score = len(board.pieces(piece, not player)) * score * -1\n",
        "\n",
        "        total_score += (true_score + false_score)\n",
        "\n",
        "    return total_score\n",
        "\n",
        "def game_score(board, player, board_scores_policy=BOARD_SCORES) -> float:\n",
        "    score = eval_board_state(board, player, board_scores_policy)\n",
        "\n",
        "    if board.is_checkmate() and board.turn == (not player):\n",
        "        score = 100\n",
        "    elif board.is_checkmate() and board.turn == player:\n",
        "        score = -100\n",
        "\n",
        "    return score\n"
      ]
    },
    {
      "cell_type": "markdown",
      "metadata": {
        "id": "8aYOlwQsnU6S"
      },
      "source": [
        "Game Engine"
      ]
    },
    {
      "cell_type": "code",
      "execution_count": 5,
      "metadata": {
        "id": "lhUguroAnUbr"
      },
      "outputs": [],
      "source": [
        "class Game:\n",
        "    def __init__(self, board: Board = None):\n",
        "        self.board = Board()\n",
        "        self.draw = True\n",
        "\n",
        "    def _game(self, white_p, black_p, pause=1):\n",
        "        board = self.board.copy()\n",
        "        result = None\n",
        "\n",
        "        for i in count():\n",
        "            sleep(pause)\n",
        "\n",
        "            if self.draw:\n",
        "              draw_board(board)\n",
        "            else:\n",
        "              print(board)\n",
        "\n",
        "            if board.turn:\n",
        "              print(white_p.solver)\n",
        "            else:\n",
        "              print(black_p.solver)\n",
        "\n",
        "            if board.is_game_over(claim_draw=True):\n",
        "                break\n",
        "\n",
        "            if board.turn:\n",
        "                move = white_p.move(board)\n",
        "            else:\n",
        "                move = black_p.move(board)\n",
        "\n",
        "            board.push_uci(move)\n",
        "\n",
        "        result_stat = {\n",
        "            \"white\": white_p.solver,\n",
        "            \"black\": black_p.solver,\n",
        "            \"FEN\": board.fen(),\n",
        "            \"last_move\": board.peek(),\n",
        "            \"moves_history\": [move.uci() for move in board.move_stack],\n",
        "        }\n",
        "\n",
        "        return result_stat\n",
        "\n",
        "    def start_game(self, p1_cls, p2_cls, pause=1):\n",
        "        result = self._game(p1_cls(True), p2_cls(False), pause)\n",
        "        return result\n",
        "\n",
        "    # OBS: usar somente para test em massa\n",
        "    def start_games(self, p1_cls, p2_cls, n=10):\n",
        "        for i in range(n):\n",
        "            if(choice([True, False])):\n",
        "              result = self.start_game(p1_cls, p2_cls)\n",
        "            else:\n",
        "              result = self.start_game(p1_cls, p2_cls)\n",
        "            print(result)"
      ]
    },
    {
      "cell_type": "markdown",
      "metadata": {
        "id": "2JwbLvZTr3rG"
      },
      "source": [
        "Base and Random Player"
      ]
    },
    {
      "cell_type": "code",
      "execution_count": 6,
      "metadata": {
        "id": "nBqxVlevr6VK"
      },
      "outputs": [],
      "source": [
        "class Player(ABC):\n",
        "    def __init__(self, player: bool, solver: str = None):\n",
        "        self.player = player\n",
        "        self.solver = solver\n",
        "\n",
        "    @abstractmethod\n",
        "    def move(self, board: Board):\n",
        "        pass\n",
        "\n",
        "\n",
        "# WARNING: PLAYER aleatorio original do codigo\n",
        "class RandomPlayer(Player):\n",
        "    def __init__(self, player: bool):\n",
        "        super().__init__(player, \"random\")\n",
        "\n",
        "    def move(self, board: Board) -> str:\n",
        "        assert board.turn == self.player, \"Not bot turn to move!\"\n",
        "\n",
        "        moves = list(board.legal_moves)\n",
        "        move = choice(moves).uci()\n",
        "\n",
        "        return move\n"
      ]
    },
    {
      "cell_type": "markdown",
      "metadata": {
        "id": "7sJ8CgTMr-FR"
      },
      "source": [
        "Greddy"
      ]
    },
    {
      "cell_type": "code",
      "execution_count": 7,
      "metadata": {
        "id": "XaEyheDsr_aq"
      },
      "outputs": [],
      "source": [
        "# WARNING: PLAYER Ganancioso sempre escolhe o melhor primeiro movimento.\n",
        "class GreedyPlayer(Player):\n",
        "    def __init__(self, player: bool):\n",
        "        super().__init__(player, \"greedy\")\n",
        "\n",
        "    def move(self, board: Board) -> str:\n",
        "        moves = list(board.legal_moves)\n",
        "\n",
        "        for move in moves:\n",
        "            board.push(move)\n",
        "            move.score = game_score(board, self.player)\n",
        "            board.pop()\n",
        "\n",
        "        moves = sorted(moves, key=lambda move: move.score, reverse=True)\n",
        "\n",
        "        return moves[0].uci()"
      ]
    },
    {
      "cell_type": "markdown",
      "metadata": {
        "id": "j9pDfGMqr_Cq"
      },
      "source": [
        "MinMax player"
      ]
    },
    {
      "cell_type": "code",
      "execution_count": 8,
      "metadata": {
        "id": "m8ELrp2nsD5H"
      },
      "outputs": [],
      "source": [
        "\n",
        "# WARNING: PLAYER minimo e maximo sempre escolhe o melhor primeiro movimento e melhor movimento do outro player.\n",
        "class MiniMaxPlayer(Player):\n",
        "    def __init__(self, player, depth=3):\n",
        "        super().__init__(player, \"minimax\")\n",
        "        self.depth = depth\n",
        "\n",
        "    def minimax(self, board, player: bool, depth: int):\n",
        "        # se for branca primeiro movimento\n",
        "        if len(board.move_stack) == 0:\n",
        "            moves = list(board.legal_moves)\n",
        "            white_opening = choice(moves)\n",
        "            return [0.0, white_opening]\n",
        "\n",
        "        return self._minimax(board, player, depth - 1, -10000, 10000)\n",
        "\n",
        "    def _minimax(self, board: Board, player: bool, depth: int, alpha, beta):\n",
        "        # confere se é continua a afundar ou se acabou por profundidade ou game over.\n",
        "        if depth == 0 or board.is_game_over(claim_draw=False):\n",
        "            return [game_score(board, self.player), None]\n",
        "\n",
        "        # com base no player escolhe a melhor ou pior jogada\n",
        "        if board.turn == player:\n",
        "            return self._max(alpha, beta, board, depth, player)\n",
        "        else:\n",
        "            return self._min(alpha, beta, board, depth, player)\n",
        "\n",
        "    def _max(self, alpha, beta, board, depth, player):\n",
        "        max_score, best_move = -9999, None\n",
        "        moves = list(board.legal_moves)\n",
        "        for move in moves:\n",
        "\n",
        "            board.push(move)\n",
        "            score = self._minimax(board, not player, depth - 1, alpha, beta)\n",
        "            board.pop()\n",
        "\n",
        "            # adaptado para poda alfa\n",
        "            alpha = max(alpha, score[0])\n",
        "            if beta <= alpha:\n",
        "                break\n",
        "\n",
        "            if score[0] >= max_score:\n",
        "                max_score = score[0]\n",
        "                best_move = move\n",
        "\n",
        "        return [max_score, best_move]\n",
        "\n",
        "    def _min(self, alpha, beta, board, depth, player):\n",
        "        min_score, best_move = 9999, None\n",
        "        moves = list(board.legal_moves)\n",
        "        for move in moves:\n",
        "\n",
        "            board.push(move)\n",
        "            score = self._minimax(board, not player, depth - 1, alpha, beta)\n",
        "            board.pop()\n",
        "\n",
        "            # adaptado para poda beta\n",
        "            beta = min(beta, score[0])\n",
        "            if beta <= alpha:\n",
        "                break\n",
        "\n",
        "            if score[0] <= min_score:\n",
        "                min_score = score[0]\n",
        "                best_move = move\n",
        "\n",
        "        return [min_score, best_move]\n",
        "\n",
        "    def move(self, board: Board) -> str:\n",
        "        # pq isso existe vc me pergunta é para deixar mais inteligente essa batata sem custar um ano de vida\n",
        "        # ponto a ressaltar jogadas impares são mais adequadas que jogadas pares.\n",
        "        # count_moves = len(list(board.legal_moves))\n",
        "        # if count_moves >= 10:\n",
        "        #   self.depth = 3\n",
        "        # else:\n",
        "        #   self.depth = 5\n",
        "\n",
        "        best_move = self.minimax(board, self.player, self.depth)\n",
        "        return best_move[1].uci()\n"
      ]
    },
    {
      "cell_type": "code",
      "execution_count": 9,
      "metadata": {
        "colab": {
          "base_uri": "https://localhost:8080/",
          "height": 463
        },
        "id": "nnKMsHcCsHcS",
        "outputId": "21eb26aa-e18e-4287-f193-414f819438f5"
      },
      "outputs": [
        {
          "output_type": "display_data",
          "data": {
            "text/plain": [
              "<PIL.Image.Image image mode=RGB size=390x390>"
            ],
            "image/png": "[encoded data removed]",
            "image/jpeg": "[encoded data removed]"
          },
          "metadata": {}
        },
        {
          "output_type": "stream",
          "name": "stdout",
          "text": [
            "minimax\n",
            "{'white': 'minimax', 'black': 'minimax', 'FEN': '8/8/8/4p3/4P3/1k6/8/1K4R1 b - - 13 34', 'last_move': Move.from_uci('a1b1'), 'moves_history': ['b1a3', 'a7a5', 'b2b4', 'a5b4', 'c2c4', 'b4a3', 'c1a3', 'a8a3', 'd2d4', 'a3a2', 'a1a2', 'b7b5', 'c4b5', 'c7c5', 'b5c6', 'd7c6', 'e2e4', 'd8d4', 'd1d4', 'e7e5', 'd4e5', 'c8e6', 'e5e6', 'f7e6', 'f2f4', 'g7g5', 'f4g5', 'h7h5', 'g5h6', 'f8h6', 'g2g4', 'c6c5', 'h2h4', 'c5c4', 'f1c4', 'e6e5', 'c4g8', 'h8g8', 'g4g5', 'h6g5', 'h4g5', 'g8g5', 'e1d1', 'g5g1', 'h1g1', 'b8a6', 'a2a6', 'e8d7', 'd1c1', 'd7c7', 'c1b1', 'c7b7', 'b1a1', 'b7a6', 'a1b1', 'a6a5', 'b1a1', 'a5a4', 'a1b1', 'a4a3', 'b1a1', 'a3b3', 'a1b1', 'b3a3', 'b1a1', 'a3b3', 'a1b1']}\n"
          ]
        }
      ],
      "source": [
        "game = Game()\n",
        "result = game.start_game(MiniMaxPlayer,MiniMaxPlayer, pause=0.3)\n",
        "print(result)"
      ]
    },
    {
      "cell_type": "markdown",
      "metadata": {
        "id": "3_RgJ2_hCKhb"
      },
      "source": [
        "#Conclusão"
      ]
    },
    {
      "cell_type": "markdown",
      "metadata": {
        "id": "rikfGCw7z1gX"
      },
      "source": [
        "\n",
        "##pontos de Observação sobre este algorithmo:\n",
        "\n",
        "porque é ruim meu MinMax:\n",
        "\n",
        "1.   olha poucas jogadas na frente (default:3) quando mais jogadas na frente melhor ele irá atuar\n",
        "2.   como eu não fiz calculo de posicionalmento das peças em geral ele se move de forma aleatoria (dummy) e tem preferencia de matar algumas peças em vez de criar estrategias para checkmate.\n",
        "3. o algoritmo de poda alfa-beta é pouco desenvolvido(muito dummy) e podendo ser removido e adaptado por soluções mais adedaquadas economizando tempo de processamento.\n",
        "\n",
        "\n",
        "\n"
      ]
    },
    {
      "cell_type": "markdown",
      "metadata": {
        "id": "pzM5wL6ICTqg"
      },
      "source": [
        "##pontos que valem resaltar:\n",
        "\n",
        "1.  pq node default 4, simples ele não entregar peças de graça a seu oponente e incentivar o uso de pastorzinho (jogada de xadrez)\n",
        "2.  se fosse adicionado um processo asyncrono em tempo de carregamento da tela e processamento seria a linha perfeita."
      ]
    },
    {
      "cell_type": "markdown",
      "metadata": {
        "id": "gHUDD5O-wFpR"
      },
      "source": [
        "#Referencias Utilizadas para criar o Projeto:\n",
        "https://colab.research.google.com/github/iAmEthanMai/chess-engine-model/blob/main/python_chess_engine.ipynb#scrollTo=GFvB8_SHg0V5 acessado ontem(12/05/2024)\n",
        "\n",
        "https://github.com/lamesjim/Chess-AI/tree/master acesso em 04/05/2024\n",
        "\n",
        "https://medium.freecodecamp.com/simple-chess-ai-step-by-step-1d55a9266977 acessado em 23/04/2024\n",
        "\n",
        "https://www.geeksforgeeks.org/minimax-algorithm-in-game-theory-set-1-introduction/ acessado em 04/05/2024\n",
        "\n",
        "https://github.com/Howuhh/chess_minimax.git acessado ontem(12/05/2024)"
      ]
    },
    {
      "cell_type": "markdown",
      "metadata": {
        "id": "5B71LQCS9Z85"
      },
      "source": []
    }
  ],
  "metadata": {
    "colab": {
      "provenance": []
    },
    "kernelspec": {
      "display_name": "Python 3",
      "name": "python3"
    },
    "language_info": {
      "name": "python"
    }
  },
  "nbformat": 4,
  "nbformat_minor": 0
}